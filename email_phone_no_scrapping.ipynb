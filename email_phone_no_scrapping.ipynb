{
  "nbformat": 4,
  "nbformat_minor": 0,
  "metadata": {
    "colab": {
      "provenance": [],
      "authorship_tag": "ABX9TyOhxGlNxrznFVGaK2MpVI9k",
      "include_colab_link": true
    },
    "kernelspec": {
      "name": "python3",
      "display_name": "Python 3"
    },
    "language_info": {
      "name": "python"
    }
  },
  "cells": [
    {
      "cell_type": "markdown",
      "metadata": {
        "id": "view-in-github",
        "colab_type": "text"
      },
      "source": [
        "<a href=\"https://colab.research.google.com/github/Naveenkumar-The-magician/webscrapping/blob/main/email_phone_no_scrapping.ipynb\" target=\"_parent\"><img src=\"https://colab.research.google.com/assets/colab-badge.svg\" alt=\"Open In Colab\"/></a>"
      ]
    },
    {
      "cell_type": "code",
      "execution_count": null,
      "metadata": {
        "id": "QHkbIIQDxOtT"
      },
      "outputs": [],
      "source": [
        "from bs4 import BeautifulSoup\n",
        "import re\n",
        "from urllib.request import urlopen\n",
        "import time\n",
        "from openpyxl import Workbook\n",
        "import os\n",
        "from datetime import datetime\n",
        "\n",
        "book = Workbook()\n",
        "sheet = book.active\n",
        "\n",
        "webpage = input(\n",
        "    \"Paste the page you would like to scrape(include http/https) : \")\n",
        "name_the_file = input(\n",
        "    \"Name the file you would like to save the data in (don't include .xlsx) : \")\n",
        "print(\"\\n\\n The website that will be scrapped is : \", webpage)\n",
        "print(\"\\n\\n Webpage is currently being scrapped...\")\n",
        "page = urlopen(webpage)\n",
        "\n",
        "scrape = BeautifulSoup(page, 'html.parser')\n",
        "scrape = scrape.get_text()\n",
        "\n",
        "phone_numbers = set(re.findall(\n",
        "    '''((?:\\d{3}|\\(\\d{3}\\))?(?:\\s|-|\\.)?\\d{3}(?:\\s|-|\\.)\\d{4})''', scrape))\n",
        "emails = set(re.findall(('''?:[a-z0-9!#$%&'*+/=?^_`{|}~-]+(?:\\.[a-z0-9!#$%&'*+/=?^_`{|}~-]+)*|\"(?:[\\x01-\\x08\\x0b\\x0c\\x0e-\\x1f\\x21\\x23-\\x5b\\x5d-\\x7f]|\\\\[\\x01-\\x09\\x0b\\x0c\\x0e-\\x7f])*\")@(?:(?:[a-z0-9](?:[a-z0-9-]*[a-z0-9])?\\.)+[a-z0-9](?:[a-z0-9-]*[a-z0-9])?|\\[(?:(?:25[0-5]|2[0-4][0-9]|[01]?[0-9][0-9]?)\\.){3}(?:25[0-5]|2[0-4][0-9]|[01]?[0-9][0-9]?|[a-z0-9-]*[a-z0-9]:(?:[\\x01-\\x08\\x0b\\x0c\\x0e-\\x1f\\x21-\\x5a\\x53-\\x7f]|\\\\[\\x01-\\x09\\x0b\\x0c\\x0e-\\x7f])+)\\])''', scrape)))\n",
        "# emails = set(re.findall(r'''{A-Za-z0-9._%+-}+@{A-Za-z0-9.-}+\\.{A-Za-z}{2,3}''', scrape))\n",
        "nodupnumber = len(list(phone_numbers))\n",
        "nodupemail = len(list(emails))\n",
        "\n",
        "dupnumber = len(list(re.findall(\n",
        "    r\"((?:\\d{3}|\\(\\d{3}\\))?(?:\\s|-|\\.)?\\d{3}(?:\\s|-|\\.)\\d{4})\", scrape)))\n",
        "# dupemail = len(list(re.findall(r\"{A-Za-z0-9._%+-}+@{A-Za-z0-9.-}+\\.{A-Za-z}{2,3}\", scrape)))\n",
        "dupemail = len(\n",
        "    list(re.findall('''(?:[a-z0-9!#$%&'*+/=?^_`{|}~-]+(?:\\.[a-z0-9!#$%&'*+/=?^_`{|}~-]+)*|\"(?:[\\x01-\\x08\\x0b\\x0c\\x0e-\\x1f\\x21\\x23-\\x5b\\x5d-\\x7f]|\\\\[\\x01-\\x09\\x0b\\x0c\\x0e-\\x7f])*\")@(?:(?:[a-z0-9](?:[a-z0-9-]*[a-z0-9])?\\.)+[a-z0-9](?:[a-z0-9-]*[a-z0-9])?|\\[(?:(?:25[0-5]|2[0-4][0-9]|[01]?[0-9][0-9]?)\\.){3}(?:25[0-5]|2[0-4][0-9]|[01]?[0-9][0-9]?|[a-z0-9-]*[a-z0-9]:(?:[\\x01-\\x08\\x0b\\x0c\\x0e-\\x1f\\x21-\\x5a\\x53-\\x7f]|\\\\[\\x01-\\x09\\x0b\\x0c\\x0e-\\x7f])+)\\])''', scrape)))\n",
        "\n",
        "number_of_dup_number = int(dupnumber) - int(nodupnumber)\n",
        "number_of_dup_email = int(dupemail) - int(nodupemail)\n",
        "\n",
        "email_list = list(emails)\n",
        "\n",
        "if len(phone_numbers) == 0:\n",
        "    print(\"No phone number(s) found.\")\n",
        "\n",
        "    print('_________________________')\n",
        "    print()\n",
        "else:\n",
        "    count = 1\n",
        "    for item in phone_numbers:\n",
        "        print('phone number #' + str(count) + ' : '+item)\n",
        "        count += 1\n",
        "\n",
        "print('_________________________')\n",
        "print()\n",
        "\n",
        "if len(emails) == 0:\n",
        "    print(\"No email address(es) found.\")\n",
        "\n",
        "    print('_________________________')\n",
        "    print()\n",
        "else:\n",
        "    count = 1\n",
        "    for item in emails:\n",
        "        print('Email address #' + str(count) + ' : '+item)\n",
        "        count += 1\n",
        "\n",
        "for row in zip(email_list):\n",
        "    sheet.append(row)\n",
        "\n",
        "excel_file = (name_the_file + \".xlsx\")\n",
        "book.save(excel_file)\n",
        "\n",
        "print(\"\\n Duplicates have been removed from list.\")\n",
        "print(\"Total phone numbers : \", nodupnumber)\n",
        "print(\"Total email addresses : \", nodupemail)\n",
        "print(\"There were \" + str(number_of_dup_number)+\"duplicate phone numbers.\")\n",
        "print(\"There were \" + str(number_of_dup_email)+\"duplicate email addresses.\")\n",
        "\n",
        "print(\"\\n\\n Data has been stored insideof an Excel spreadsheet named: \" +\n",
        "      excel_file+\"in this directory: \" + os.getcwd())\n",
        "\n",
        "mod_time = os.stat(excel_file).st_mtime\n",
        "\n",
        "print(\"\\n completed at: \" + str(datetime.fromtimestamp(mod_time)))\n",
        "print(\"\\n Size of file : \" + str(os.stat(excel_file).st_size) + \" KB\")\n"
      ]
    }
  ]
}