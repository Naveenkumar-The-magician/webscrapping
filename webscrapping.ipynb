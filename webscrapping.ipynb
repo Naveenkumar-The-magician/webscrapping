{
  "nbformat": 4,
  "nbformat_minor": 0,
  "metadata": {
    "colab": {
      "provenance": [],
      "authorship_tag": "ABX9TyOnlJ9W1A9b8bnqDc4qB8TT",
      "include_colab_link": true
    },
    "kernelspec": {
      "name": "python3",
      "display_name": "Python 3"
    },
    "language_info": {
      "name": "python"
    }
  },
  "cells": [
    {
      "cell_type": "markdown",
      "metadata": {
        "id": "view-in-github",
        "colab_type": "text"
      },
      "source": [
        "<a href=\"https://colab.research.google.com/github/Naveenkumar-The-magician/webscrapping/blob/main/webscrapping.ipynb\" target=\"_parent\"><img src=\"https://colab.research.google.com/assets/colab-badge.svg\" alt=\"Open In Colab\"/></a>"
      ]
    },
    {
      "cell_type": "code",
      "execution_count": null,
      "metadata": {
        "id": "Ah8yqbrAu4VI"
      },
      "outputs": [],
      "source": [
        "import urllib\n",
        "import urllib.request\n",
        "from bs4 import BeautifulSoup\n",
        "url = \"https://www.flipkart.com/search?q=machine+learning&otracker=search&otracker1=search&marketplace=FLIPKART&as-show=on&as=off&as-pos=1&as-type=HISTORY\"\n",
        "page = urllib.request.urlopen(url)\n",
        "a = BeautifulSoup(page,\"html.parser\")\n",
        "\n",
        "#print(a.title.string)\n",
        "#print(a.prettify())\n",
        "print(a.find_all(\"a\"))\n",
        "\n"
      ]
    },
    {
      "cell_type": "code",
      "source": [
        "import urllib\n",
        "import urllib.request\n",
        "from bs4 import BeautifulSoup\n",
        "import os\n",
        "\n",
        "def soup(url):\n",
        "    thepage = urllib.request.urlopen(url)\n",
        "    soupdata = BeautifulSoup(thepage,\"html.parser\")\n",
        "    thepage.close()\n",
        "    return soupdata\n",
        "\n",
        "edatas = \"\"\n",
        "edatal = \"\"\n",
        "\n",
        "surl = input(\"enter the linkedin profile id: \")\n",
        "soup1 = soup(surl)\n",
        "print(soup1)\n",
        "\n"
      ],
      "metadata": {
        "id": "b141YmZdu-x0"
      },
      "execution_count": null,
      "outputs": []
    },
    {
      "cell_type": "code",
      "source": [
        "import requests\n",
        "from lxml import html\n",
        "\n",
        "headers = {\n",
        "    \"user-agent\": \"Mozilla/5.0 (X11; Linux x86_64) AppleWebKit/537.36 (KHTML, like Gecko) Ubuntu Chromium/71.0.3578.80 Chrome/71.0.3578.80 Safari/537.36\",\n",
        "}\n",
        "\n",
        "url = \"https://es.wikipedia.org/wiki/Web_scraping\"\n",
        "\n",
        "url_web = requests.get(url)\n",
        "\n",
        "parser = html.fromstring(url_web.text)\n",
        "\n",
        "sections = parser.xpath(\"//li[contains(@class, 'toclevel-1')]\")\n",
        "for section in sections:\n",
        "    content = section.xpath(\".//span/text()\")\n",
        "    index = content[0]\n",
        "    section = content[1]\n",
        "    print(index, section)\n",
        "\n",
        "print(parser.get(''))\n"
      ],
      "metadata": {
        "id": "ggLjw018vKsS"
      },
      "execution_count": null,
      "outputs": []
    },
    {
      "cell_type": "code",
      "source": [],
      "metadata": {
        "id": "BfMu7LHkvQ-n"
      },
      "execution_count": null,
      "outputs": []
    }
  ]
}