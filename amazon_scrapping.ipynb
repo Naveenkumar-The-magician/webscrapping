{
  "nbformat": 4,
  "nbformat_minor": 0,
  "metadata": {
    "colab": {
      "provenance": [],
      "authorship_tag": "ABX9TyPEQnStw2xHWJmr9UX8P1Zj",
      "include_colab_link": true
    },
    "kernelspec": {
      "name": "python3",
      "display_name": "Python 3"
    },
    "language_info": {
      "name": "python"
    }
  },
  "cells": [
    {
      "cell_type": "markdown",
      "metadata": {
        "id": "view-in-github",
        "colab_type": "text"
      },
      "source": [
        "<a href=\"https://colab.research.google.com/github/Naveenkumar-The-magician/webscrapping/blob/main/amazon_scrapping.ipynb\" target=\"_parent\"><img src=\"https://colab.research.google.com/assets/colab-badge.svg\" alt=\"Open In Colab\"/></a>"
      ]
    },
    {
      "cell_type": "code",
      "execution_count": null,
      "metadata": {
        "id": "02O6FHoCriIX"
      },
      "outputs": [],
      "source": [
        "import scrapy\n",
        "from ..items import AmazontutorialsItem\n",
        "\n",
        "\n",
        "class AmazonSpiderSpider(scrapy.Spider):\n",
        "    name = \"amazon_spider\"\n",
        "    allowed_domains = [\"amazon.com\"]\n",
        "    start_urls = [\n",
        "        \"https://www.amazon.in/s/?k=data+science&ref=sugsr_1&pd_rd_w=9b2nb&content-id=amzn1.sym.6705d6dc-26d1-4cee-9638-634bef10528d:amzn1.sym.6705d6dc-26d1-4cee-9638-634bef10528d&pf_rd_p=6705d6dc-26d1-4cee-9638-634bef10528d&pf_rd_r=6VQC1W53NW8AQ02GQ59G&pd_rd_wg=uZOPV&pd_rd_r=aa319969-363c-470a-ae13-fb478175848e&qid=1680789830\"\n",
        "    ]\n",
        "\n",
        "    def parse(self, response):\n",
        "        items = AmazontutorialsItem()\n",
        "        pro_name = response.css('.a-color-base.a-text-normal::text').extract()\n",
        "        pro_auth = response.css('.a-color-secondary .a-size-base+ .a-size-base').css('::text').extract()\n",
        "        pro_prize = response.css('.a-price-whole').css('::text').extract()\n",
        "        pro_img = response.css('.s-image::attr(src)').extract()\n",
        "\n",
        "        items['pro_name'] = pro_name\n",
        "        items['pro_auth'] = pro_auth\n",
        "        items['pro_prize'] = pro_prize\n",
        "        items['pro_img'] = pro_img\n",
        "        yield items"
      ]
    }
  ]
}