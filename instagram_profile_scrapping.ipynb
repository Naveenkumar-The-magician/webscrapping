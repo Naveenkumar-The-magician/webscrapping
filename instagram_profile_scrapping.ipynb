{
  "nbformat": 4,
  "nbformat_minor": 0,
  "metadata": {
    "colab": {
      "provenance": [],
      "authorship_tag": "ABX9TyOmwjNDaMRXA9lWYkCpFy7j",
      "include_colab_link": true
    },
    "kernelspec": {
      "name": "python3",
      "display_name": "Python 3"
    },
    "language_info": {
      "name": "python"
    }
  },
  "cells": [
    {
      "cell_type": "markdown",
      "metadata": {
        "id": "view-in-github",
        "colab_type": "text"
      },
      "source": [
        "<a href=\"https://colab.research.google.com/github/Naveenkumar-The-magician/webscrapping/blob/main/instagram_profile_scrapping.ipynb\" target=\"_parent\"><img src=\"https://colab.research.google.com/assets/colab-badge.svg\" alt=\"Open In Colab\"/></a>"
      ]
    },
    {
      "cell_type": "code",
      "execution_count": null,
      "metadata": {
        "id": "CYd7HInKzQIC"
      },
      "outputs": [],
      "source": [
        "import instaloader\n",
        "\n",
        "# Create an instance of Instaloader class\n",
        "L = instaloader.Instaloader()\n",
        "\n",
        "# Get the user profile\n",
        "profile = instaloader.Profile.from_username(L.context, \"naveenkumar_the_magician\")\n",
        "\n",
        "# to download all media from the username\n",
        "# L.download_profile(\"naveenkumar_the_magician\")\n",
        "\n",
        "\n",
        "print(\"Username: \", profile.username)\n",
        "# Print the profile information\n",
        "\n",
        "\n",
        "print(\"Full Name: \", profile.full_name)\n",
        "# email\n",
        "# fb id\n",
        "print(\"profile_pic_url:\", profile.profile_pic_url)\n",
        "print(\"Followers: \", profile.followers)\n",
        "print(\"Following: \", profile.followees)\n",
        "print(\"Bio: \", profile.biography)\n",
        "\n",
        "print(\"is_business_account:\", profile.is_business_account)\n",
        "print(\"is_private:\", profile.is_private)\n",
        "\n",
        "print(\"is_verified: \", profile.is_verified)\n",
        "# joined recently\n",
        "# connected to fb\n",
        "print(\"external_url\", profile.external_url)\n",
        "print(\"business_category_name:\", profile.business_category_name)\n",
        "# print(\"__class__:\", profile.__class__)\n",
        "# print(\"followed_by_viewer :\", profile.followed_by_viewer)\n",
        "# print(\"follows_viewer:\", profile.follows_viewer)"
      ]
    }
  ]
}