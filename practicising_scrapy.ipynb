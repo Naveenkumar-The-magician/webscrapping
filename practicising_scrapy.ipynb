{
  "nbformat": 4,
  "nbformat_minor": 0,
  "metadata": {
    "colab": {
      "provenance": [],
      "authorship_tag": "ABX9TyNOrntFsgt0JqDikX7DamF0",
      "include_colab_link": true
    },
    "kernelspec": {
      "name": "python3",
      "display_name": "Python 3"
    },
    "language_info": {
      "name": "python"
    }
  },
  "cells": [
    {
      "cell_type": "markdown",
      "metadata": {
        "id": "view-in-github",
        "colab_type": "text"
      },
      "source": [
        "<a href=\"https://colab.research.google.com/github/Naveenkumar-The-magician/webscrapping/blob/main/practicising_scrapy.ipynb\" target=\"_parent\"><img src=\"https://colab.research.google.com/assets/colab-badge.svg\" alt=\"Open In Colab\"/></a>"
      ]
    },
    {
      "cell_type": "code",
      "execution_count": null,
      "metadata": {
        "id": "8wMQkNegrOXd"
      },
      "outputs": [],
      "source": [
        "import scrapy\n",
        "from scrapy.http import FormRequest\n",
        "from ..items import ScrapesItem\n",
        "from scrapy.utils.response import open_in_browser\n",
        "\n",
        "class QuotesSpider(scrapy.Spider):\n",
        "    name = \"quotes\"\n",
        "    allowed_domains = [\"quotes.toscrape.com\"]\n",
        "    start_urls = [\"https://quotes.toscrape.com/login\"]\n",
        "\n",
        "\n",
        "    def parse(self, response):\n",
        "        token = response.css('form input::attr(value)').extract_first()\n",
        "        return FormRequest.from_response(response, formdata = {\n",
        "        'carf_token' : token,\n",
        "        'username' : 'lsivaslm@gmail.com',\n",
        "        'password' : 'your_password'\n",
        "        },callback = self.start_scraping)\n",
        "\n",
        "    def start_scraping(self,response):\n",
        "        open_in_browser(response)\n",
        "        items = ScrapesItem()\n",
        "        all_div_quote = response.css(\"div.quote\")\n",
        "        for quotes in all_div_quote:\n",
        "            title = quotes.css('span.text::text').extract()\n",
        "            author = quotes.css('.author::text').extract()\n",
        "            tags = quotes.css('.tag::text').extract()\n",
        "\n",
        "            items['title'] = title\n",
        "            items['author'] = author\n",
        "            items['tags'] = tags\n",
        "            yield items\n",
        "\n",
        "\n"
      ]
    }
  ]
}