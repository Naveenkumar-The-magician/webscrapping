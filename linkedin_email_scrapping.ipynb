{
  "nbformat": 4,
  "nbformat_minor": 0,
  "metadata": {
    "colab": {
      "provenance": [],
      "authorship_tag": "ABX9TyNKlvJrJjq4hh4LxTc23E2Y",
      "include_colab_link": true
    },
    "kernelspec": {
      "name": "python3",
      "display_name": "Python 3"
    },
    "language_info": {
      "name": "python"
    }
  },
  "cells": [
    {
      "cell_type": "markdown",
      "metadata": {
        "id": "view-in-github",
        "colab_type": "text"
      },
      "source": [
        "<a href=\"https://colab.research.google.com/github/Naveenkumar-The-magician/webscrapping/blob/main/linkedin_email_scrapping.ipynb\" target=\"_parent\"><img src=\"https://colab.research.google.com/assets/colab-badge.svg\" alt=\"Open In Colab\"/></a>"
      ]
    },
    {
      "cell_type": "code",
      "execution_count": null,
      "metadata": {
        "id": "bwHB-4K-xojF"
      },
      "outputs": [],
      "source": [
        "from selenium import webdriver\n",
        "from selenium.webdriver.common.by import By\n",
        "from bs4 import BeautifulSoup\n",
        "import time\n",
        "from selenium.webdriver.support.wait import WebDriverWait\n",
        "import os\n",
        "\n",
        "path = r\"\\chromedriver.exe\"\n",
        "# download the chromedriver.exe from https://chromedriver.storage.googleapis.com/index.html?path=106.0.5249.21/\n",
        "\n",
        "driver = webdriver.Chrome(path)\n",
        "\n",
        "# Login\n",
        "\n",
        "\n",
        "def login():\n",
        "    # this is your linkedin account login, store in a seperate text file. I recommend creating a fake account so your real one dosen't get flagged or banned\n",
        "    login = open(r\"C:\\Users\\lsiva\\OneDrive\\Desktop\\Test jupyter\\login.txt\")\n",
        "    line = login.readlines()\n",
        "\n",
        "    email = line[0]\n",
        "    password = line[1]\n",
        "\n",
        "    driver.get(\"https://www.linkedin.com/login\")\n",
        "    time.sleep(1)\n",
        "\n",
        "    eml = driver.find_element(by=By.ID, value=\"username\")\n",
        "    eml.send_keys(email)\n",
        "    passwd = driver.find_element(by=By.ID, value=\"password\")\n",
        "    passwd.send_keys(password)\n",
        "    loginbutton = driver.find_element(\n",
        "        by=By.XPATH, value=\"//*[@id='organic-div']/form/div[3]/button\"\n",
        "    )\n",
        "    loginbutton.click()\n",
        "\n",
        "\n",
        "def search():\n",
        "    # link in text file which should contain input links(linkedin ids)\n",
        "    link = open(r\"C:\\Users\\lsiva\\OneDrive\\Desktop\\Test jupyter\\links.txt\")\n",
        "    line = link.readlines()\n",
        "    with open(r\"C:\\Users\\lsiva\\OneDrive\\Desktop\\Test jupyter\\links.txt\") as fp:\n",
        "        n = sum(1 for line in fp)  # for counting no. of lines\n",
        "\n",
        "    data = \"\"\n",
        "    list1 = \"\"\n",
        "\n",
        "    for i in range(n):\n",
        "        driver.get(line[i] + \"overlay/contact-info/\")\n",
        "\n",
        "        source = BeautifulSoup(driver.page_source, features=\"html.parser\")\n",
        "\n",
        "        mail = \"no result\"\n",
        "        for record in source.findAll(\n",
        "            \"div\", {\"class\": \"artdeco-modal__header ember-view\"}\n",
        "        ):\n",
        "            person = record.text.replace(\",\", \".\")\n",
        "            person = person.replace(\"\\n\", \"\")\n",
        "\n",
        "        for record in source.findAll(\n",
        "            \"a\",\n",
        "            {\"class\": \"pv-contact-info__contact-link link-without-visited-state t-14\"},\n",
        "        ):\n",
        "            mail = record.text.replace(\" \", \"\")\n",
        "            mail = mail.replace(\"\\n\", \"\")\n",
        "\n",
        "            data = person + \",\" + mail\n",
        "\n",
        "        list1 = list1 + \"\\n\" + data\n",
        "    print(list1)\n",
        "\n",
        "    header = \"name,mail id\"\n",
        "    file = open(os.path.expanduser(\"linkedin data.csv\"), \"wb\")\n",
        "    file.write(bytes(header, encoding=\"ascii\", errors=\"ignore\"))\n",
        "    file.write(bytes(list1, encoding=\"ascii\", errors=\"ignore\"))\n",
        "\n",
        "\n",
        "login()\n",
        "search()\n"
      ]
    }
  ]
}