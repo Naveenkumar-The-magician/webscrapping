{
  "nbformat": 4,
  "nbformat_minor": 0,
  "metadata": {
    "colab": {
      "provenance": [],
      "authorship_tag": "ABX9TyPzEz9cbrXV7FpGFCLaWbn/",
      "include_colab_link": true
    },
    "kernelspec": {
      "name": "python3",
      "display_name": "Python 3"
    },
    "language_info": {
      "name": "python"
    }
  },
  "cells": [
    {
      "cell_type": "markdown",
      "metadata": {
        "id": "view-in-github",
        "colab_type": "text"
      },
      "source": [
        "<a href=\"https://colab.research.google.com/github/Naveenkumar-The-magician/webscrapping/blob/main/email_scrapping_from_websites.ipynb\" target=\"_parent\"><img src=\"https://colab.research.google.com/assets/colab-badge.svg\" alt=\"Open In Colab\"/></a>"
      ]
    },
    {
      "cell_type": "code",
      "execution_count": null,
      "metadata": {
        "id": "FiTF-_RRyAh2"
      },
      "outputs": [],
      "source": [
        "import re\n",
        "from selenium import webdriver\n",
        "\n",
        "chrome_driver = r\"\\chromedriver.exe\"\n",
        "\n",
        "driver = webdriver.Chrome(chrome_driver)\n",
        "# driver.get('https://www.randomlists.com/email-addresses?qty=50')\n",
        "driver.get('https://www.casagrand.co.in')\n",
        "\n",
        "page_source = driver.page_source\n",
        "\n",
        "EMAIL_REGEX = '''(?:[a-z0-9!#$%&'*+/=?^_`{|}~-]+(?:\\.[a-z0-9!#$%&'*+/=?^_`{|}~-]+)*|\"(?:[\\x01-\\x08\\x0b\\x0c\\x0e-\\x1f\\x21\\x23-\\x5b\\x5d-\\x7f]|\\\\[\\x01-\\x09\\x0b\\x0c\\x0e-\\x7f])*\")@(?:(?:[a-z0-9](?:[a-z0-9-]*[a-z0-9])?\\.)+[a-z0-9](?:[a-z0-9-]*[a-z0-9])?|\\[(?:(?:25[0-5]|2[0-4][0-9]|[01]?[0-9][0-9]?)\\.){3}(?:25[0-5]|2[0-4][0-9]|[01]?[0-9][0-9]?|[a-z0-9-]*[a-z0-9]:(?:[\\x01-\\x08\\x0b\\x0c\\x0e-\\x1f\\x21-\\x5a\\x53-\\x7f]|\\\\[\\x01-\\x09\\x0b\\x0c\\x0e-\\x7f])+)\\])'''\n",
        "\n",
        "list_of_emails = []\n",
        "\n",
        "for re_match in re.finditer(EMAIL_REGEX, page_source):\n",
        "    list_of_emails.append(re_match.group())\n",
        "\n",
        "for i, email in enumerate(list_of_emails):\n",
        "    print(f'{i+1}:{email}')\n",
        "\n",
        "driver.close\n"
      ]
    }
  ]
}