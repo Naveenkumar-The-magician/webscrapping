{
  "nbformat": 4,
  "nbformat_minor": 0,
  "metadata": {
    "colab": {
      "provenance": [],
      "authorship_tag": "ABX9TyN9FAQh+Ah5q/BRbI3KwVq1",
      "include_colab_link": true
    },
    "kernelspec": {
      "name": "python3",
      "display_name": "Python 3"
    },
    "language_info": {
      "name": "python"
    }
  },
  "cells": [
    {
      "cell_type": "markdown",
      "metadata": {
        "id": "view-in-github",
        "colab_type": "text"
      },
      "source": [
        "<a href=\"https://colab.research.google.com/github/Naveenkumar-The-magician/webscrapping/blob/main/scrapping_from_ecommerce_website.ipynb\" target=\"_parent\"><img src=\"https://colab.research.google.com/assets/colab-badge.svg\" alt=\"Open In Colab\"/></a>"
      ]
    },
    {
      "cell_type": "code",
      "execution_count": null,
      "metadata": {
        "id": "z4B1wAT7vwa4"
      },
      "outputs": [],
      "source": [
        "import urllib\n",
        "import urllib.request\n",
        "from bs4 import BeautifulSoup\n",
        "import os\n",
        "\n",
        "\n",
        "def soup(url):\n",
        "    thepage = urllib.request.urlopen(url)\n",
        "    soupdata = BeautifulSoup(thepage, \"html.parser\")\n",
        "    thepage.close()\n",
        "    return soupdata\n",
        "\n",
        "\n",
        "edatas = \"\"\n",
        "\n",
        "surl = \"https://www.flipkart.com/search?q=machine%20learning&otracker=search&otracker1=search&marketplace=FLIPKART&as-show=on&as=off\"\n",
        "soup1 = soup(surl)\n",
        "# print(soup1)\n",
        "\n",
        "\n",
        "count = soup1.findAll(\"a\", {\"class\": \"s1Q9rs\"})\n",
        "print(len(count))\n",
        "\n",
        "for record in soup1.findAll(\"div\", {\"class\": \"_1YokD2 _3Mn1Gg\"}):\n",
        "    for record2 in record.findAll(\"div\", {\"class\": \"_4ddWXP\"}):\n",
        "        for record3 in record2.findAll(\"a\", {\"class\": \"s1Q9rs\"}):\n",
        "            title = record3.text.replace(\",\", \"..\")\n",
        "\n",
        "        for record4 in record2.findAll(\"div\", {\"class\": \"_30jeq3\"}):\n",
        "            price = record4.text.replace(\",\", \"\")\n",
        "            data = title + \",\" + price\n",
        "\n",
        "        edatas = edatas + \"\\n\" + data\n",
        "        print(len(edatas))\n",
        "print(edatas)\n",
        "\n",
        "header = \"book name, price\"\n",
        "file = open(os.path.expanduser(\"out.csv\"), \"wb\")\n",
        "file.write(bytes(header, encoding=\"ascii\", errors=\"ignore\"))\n",
        "file.write(bytes(edatas, encoding=\"ascii\", errors=\"ignore\"))"
      ]
    }
  ]
}