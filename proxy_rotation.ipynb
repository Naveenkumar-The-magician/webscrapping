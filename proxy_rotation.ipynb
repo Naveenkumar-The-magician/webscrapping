{
  "nbformat": 4,
  "nbformat_minor": 0,
  "metadata": {
    "colab": {
      "provenance": [],
      "authorship_tag": "ABX9TyPbYyyRfUJKgjgNSeC1e3n2",
      "include_colab_link": true
    },
    "kernelspec": {
      "name": "python3",
      "display_name": "Python 3"
    },
    "language_info": {
      "name": "python"
    }
  },
  "cells": [
    {
      "cell_type": "markdown",
      "metadata": {
        "id": "view-in-github",
        "colab_type": "text"
      },
      "source": [
        "<a href=\"https://colab.research.google.com/github/Naveenkumar-The-magician/webscrapping/blob/main/proxy_rotation.ipynb\" target=\"_parent\"><img src=\"https://colab.research.google.com/assets/colab-badge.svg\" alt=\"Open In Colab\"/></a>"
      ]
    },
    {
      "cell_type": "code",
      "execution_count": null,
      "metadata": {
        "id": "sLIFWxGYzuBR"
      },
      "outputs": [],
      "source": [
        "import requests\n",
        "\n",
        "# List of proxies to rotate\n",
        "proxies = [\n",
        "\"103.37.88.10:80\",\n",
        "\"140.238.245.116:8100\",\n",
        "\"987.65.43.21:8080\",\n",
        "    # Add more proxies as needed\n",
        "]\n",
        "\n",
        "\n",
        "def send_request(url):\n",
        "    for proxy in proxies:\n",
        "        try:\n",
        "            response = requests.get(url, proxies={\"http\": proxy, \"https\": proxy})\n",
        "            if response.status_code == 200:\n",
        "                return response.text\n",
        "        except requests.exceptions.RequestException as e:\n",
        "            print(f\"Failed to connect using proxy {proxy}: {e}\")\n",
        "\n",
        "    print(\"All proxies failed\")\n",
        "    return None\n",
        "\n",
        "\n",
        "# Example usage\n",
        "url = \"http://quotes.toscrape.com/\"\n",
        "response = send_request(url)\n",
        "if response:\n",
        "    print(response)"
      ]
    }
  ]
}