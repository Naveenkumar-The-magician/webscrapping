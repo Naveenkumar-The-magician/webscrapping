{
  "nbformat": 4,
  "nbformat_minor": 0,
  "metadata": {
    "colab": {
      "provenance": [],
      "authorship_tag": "ABX9TyMbpCsSNeK4zqN14ELq0enK",
      "include_colab_link": true
    },
    "kernelspec": {
      "name": "python3",
      "display_name": "Python 3"
    },
    "language_info": {
      "name": "python"
    }
  },
  "cells": [
    {
      "cell_type": "markdown",
      "metadata": {
        "id": "view-in-github",
        "colab_type": "text"
      },
      "source": [
        "<a href=\"https://colab.research.google.com/github/Naveenkumar-The-magician/webscrapping/blob/main/using_newspaper.ipynb\" target=\"_parent\"><img src=\"https://colab.research.google.com/assets/colab-badge.svg\" alt=\"Open In Colab\"/></a>"
      ]
    },
    {
      "cell_type": "code",
      "execution_count": null,
      "metadata": {
        "id": "konbr4BXqW2G"
      },
      "outputs": [],
      "source": [
        "import newspaper\n",
        "\n",
        "# Create a Newspaper object and specify the URL of the news website\n",
        "news_paper = newspaper.build(\n",
        "    \"https://www.journalofdemocracy.org/articles/the-putin-myth/\"\n",
        ")\n",
        "\n",
        "# Iterate over the articles on the website\n",
        "for article in news_paper.articles:\n",
        "    # Download and parse the article\n",
        "    article.download()\n",
        "    article.parse()\n",
        "\n",
        "    # Extract information from the article\n",
        "    title = article.title\n",
        "    authors = article.authors\n",
        "    publish_date = article.publish_date\n",
        "    text = article.text\n",
        "\n",
        "    # Print the extracted information\n",
        "    print(\"Title:\", title)\n",
        "    print(\"Authors:\", authors)\n",
        "    print(\"Publish Date:\", publish_date)\n",
        "    print(\"Text:\", text)\n",
        "    print(\"-------------------\")\n"
      ]
    }
  ]
}